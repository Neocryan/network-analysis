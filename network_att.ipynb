{
  "nbformat": 4,
  "nbformat_minor": 0,
  "metadata": {
    "colab": {
      "name": "network_att.ipynb",
      "version": "0.3.2",
      "provenance": [],
      "collapsed_sections": []
    },
    "kernelspec": {
      "display_name": "Python 3",
      "language": "python",
      "name": "python3"
    }
  },
  "cells": [
    {
      "metadata": {
        "id": "zgs5BgVTcNNX",
        "colab_type": "code",
        "colab": {
          "base_uri": "https://localhost:8080/",
          "height": 135
        },
        "outputId": "a0caa9fc-03c6-44b1-888e-e39b8545c91f"
      },
      "cell_type": "code",
      "source": [
        "!rm ./* -rf\n",
        "!git clone https://github.com/Neocryan/network-analysis.git\n",
        "!mv network-analysis/* ./\n",
        "# !pip install networkx==1.11\n",
        "!pip install -U networkx"
      ],
      "execution_count": 1,
      "outputs": [
        {
          "output_type": "stream",
          "text": [
            "Cloning into 'network-analysis'...\n",
            "remote: Counting objects: 34, done.\u001b[K\n",
            "remote: Compressing objects: 100% (32/32), done.\u001b[K\n",
            "remote: Total 34 (delta 6), reused 3 (delta 0), pack-reused 0\u001b[K\n",
            "Unpacking objects: 100% (34/34), done.\n",
            "Requirement already up-to-date: networkx in /usr/local/lib/python3.6/dist-packages\n",
            "Requirement already up-to-date: decorator>=4.1.0 in /usr/local/lib/python3.6/dist-packages (from networkx)\n"
          ],
          "name": "stdout"
        }
      ]
    },
    {
      "metadata": {
        "id": "QfGDMy5UcNNb",
        "colab_type": "code",
        "colab": {
          "base_uri": "https://localhost:8080/",
          "height": 35
        },
        "outputId": "c4b51f50-2f11-4431-824c-13c29bd3f312"
      },
      "cell_type": "code",
      "source": [
        "import networkx as nx\n",
        "import numpy as np\n",
        "from save_n_load import load\n",
        "from pprint import pprint\n",
        "id2geo,group2stop,stop2group,name2id,id2name,edge_tuple = load()"
      ],
      "execution_count": 6,
      "outputs": [
        {
          "output_type": "stream",
          "text": [
            "load it\n"
          ],
          "name": "stdout"
        }
      ]
    },
    {
      "metadata": {
        "id": "9SbrY40Me6xU",
        "colab_type": "text"
      },
      "cell_type": "markdown",
      "source": [
        "Plot the core\n"
      ]
    },
    {
      "metadata": {
        "id": "UoOn7yYRcNNd",
        "colab_type": "code",
        "colab": {}
      },
      "cell_type": "code",
      "source": [
        "import gmaps\n",
        "import gmaps.datasets\n",
        "gmaps.configure(api_key=\"AI\")\n",
        "# from gmaps import \n",
        "\n",
        "# fig = gmaps.figure()\n",
        "figure_layout = {\n",
        "    'width': '800px',\n",
        "    'height': '800px',\n",
        "    'border': '0 auto 0 auto',\n",
        "    'padding': '1px'\n",
        "}\n",
        "fig= gmaps.figure(layout=figure_layout)\n",
        "\n",
        "xxx = plot_core4\n",
        "heatmap_layer = gmaps.heatmap_layer(\n",
        "    xxx,max_intensity=10000, point_radius=1.0\n",
        ")\n",
        "fig.add_layer(heatmap_layer)\n",
        "fig.add_layer(gmaps.transit_layer())\n",
        "polygon = gmaps.Polygon(\n",
        "    xxx\n",
        ")\n",
        "drawing = gmaps.drawing_layer(\n",
        "    features=[polygon],\n",
        "    show_controls=False\n",
        ")\n",
        "\n"
      ],
      "execution_count": 0,
      "outputs": []
    },
    {
      "metadata": {
        "id": "wc5z6citcNNl",
        "colab_type": "code",
        "colab": {}
      },
      "cell_type": "code",
      "source": [
        "# LOAD Graph HERE\n",
        "GG = nx.read_gpickle('net100')"
      ],
      "execution_count": 0,
      "outputs": []
    },
    {
      "metadata": {
        "id": "YMNNl5D7cNNm",
        "colab_type": "code",
        "colab": {
          "base_uri": "https://localhost:8080/",
          "height": 35
        },
        "outputId": "d3b03a44-13a6-4119-b424-075fc4a926eb"
      },
      "cell_type": "code",
      "source": [
        "nx.info(GG)"
      ],
      "execution_count": 8,
      "outputs": [
        {
          "output_type": "execute_result",
          "data": {
            "text/plain": [
              "'Name: \\nType: Graph\\nNumber of nodes: 5486\\nNumber of edges: 10246\\nAverage degree:   3.7353'"
            ]
          },
          "metadata": {
            "tags": []
          },
          "execution_count": 8
        }
      ]
    },
    {
      "metadata": {
        "id": "SXiKjLzBcNNs",
        "colab_type": "code",
        "colab": {
          "base_uri": "https://localhost:8080/",
          "height": 35
        },
        "outputId": "d3e800f4-048e-4f4d-bf4d-060ab95a42a9"
      },
      "cell_type": "code",
      "source": [
        "GG_noself = GG.copy()\n",
        "GG_noself.remove_edges_from(nx.selfloop_edges(GG_noself))\n",
        "core_dict = nx.core_number(GG_noself)\n",
        "print('all {} cores'.format(len(set(core_dict.values()))))"
      ],
      "execution_count": 14,
      "outputs": [
        {
          "output_type": "stream",
          "text": [
            "all 4 cores\n"
          ],
          "name": "stdout"
        }
      ]
    },
    {
      "metadata": {
        "id": "bk1ghxXDcNNv",
        "colab_type": "code",
        "colab": {}
      },
      "cell_type": "code",
      "source": [
        "plot_core1 = []\n",
        "for j in [x for x in nx.k_core(GG_noself,k=4)]:\n",
        "    plot_core1.append(id2geo[group2stop[int(j.replace(\"'\",\"\"))][0]])\n",
        "plot_core2 = []\n",
        "for j in [x for x in nx.k_core(GG_noself,k=3)]:\n",
        "    plot_core2.append(id2geo[group2stop[int(j.replace(\"'\",\"\"))][0]])\n",
        "plot_core3 = []\n",
        "for j in [x for x in nx.k_core(GG_noself,k=2)]:\n",
        "    plot_core3.append(id2geo[group2stop[int(j.replace(\"'\",\"\"))][0]])\n",
        "plot_core4 = []\n",
        "for j in [x for x in nx.k_core(GG_noself,k=1)]:\n",
        "    plot_core4.append(id2geo[group2stop[int(j.replace(\"'\",\"\"))][0]])\n"
      ],
      "execution_count": 0,
      "outputs": []
    },
    {
      "metadata": {
        "id": "qKLKBrz3V4O_",
        "colab_type": "code",
        "colab": {}
      },
      "cell_type": "code",
      "source": [
        "core1 = []\n",
        "for j in [x for x in nx.k_core(GG_noself,k=4)]:\n",
        "    core1.append(j)\n",
        "core2 = []\n",
        "for j in [x for x in nx.k_core(GG_noself,k=3)]:\n",
        "    core2.append(j)\n",
        "core3 = []\n",
        "for j in [x for x in nx.k_core(GG_noself,k=2)]:\n",
        "    core3.append(j)\n",
        "core4 = []\n",
        "for j in [x for x in nx.k_core(GG_noself,k=1)]:\n",
        "    core4.append(j)"
      ],
      "execution_count": 0,
      "outputs": []
    },
    {
      "metadata": {
        "id": "3V3HuqlUWSaZ",
        "colab_type": "code",
        "colab": {
          "base_uri": "https://localhost:8080/",
          "height": 35
        },
        "outputId": "840f35ae-b842-434d-e31c-dd31c2ac1ccd"
      },
      "cell_type": "code",
      "source": [
        "\n",
        "core4 = [x for x in core4 if x not in core3]\n",
        "core3 = [x for x in core3 if x not in core2]\n",
        "core2 = [x for x in core2 if x not in core1]\n",
        "len(core1),len(core2),len(core3),len(core4)"
      ],
      "execution_count": 24,
      "outputs": [
        {
          "output_type": "execute_result",
          "data": {
            "text/plain": [
              "(59, 1942, 3359, 126)"
            ]
          },
          "metadata": {
            "tags": []
          },
          "execution_count": 24
        }
      ]
    },
    {
      "metadata": {
        "id": "qI_XfQsscNN5",
        "colab_type": "code",
        "colab": {}
      },
      "cell_type": "code",
      "source": [
        "decen = nx.degree_centrality(GG)"
      ],
      "execution_count": 0,
      "outputs": []
    },
    {
      "metadata": {
        "id": "WOZIsFvncNN-",
        "colab_type": "code",
        "colab": {}
      },
      "cell_type": "code",
      "source": [
        "yy = []\n",
        "for i in sorted(decen,key=lambda x: decen[x],reverse= True):\n",
        "    yy.append(decen[i])"
      ],
      "execution_count": 0,
      "outputs": []
    },
    {
      "metadata": {
        "id": "V8ZFVri3cNOJ",
        "colab_type": "code",
        "colab": {}
      },
      "cell_type": "code",
      "source": [
        "xx = [x.replace(\"'\",'') for x in sorted(decen,key=lambda x: decen[x],reverse= True)]"
      ],
      "execution_count": 0,
      "outputs": []
    },
    {
      "metadata": {
        "id": "6Zj0fLWNcNON",
        "colab_type": "code",
        "colab": {},
        "outputId": "daeaf5f8-3b23-443c-edd0-16503abe79d2"
      },
      "cell_type": "code",
      "source": [
        "import matplotlib.pyplot as plt\n",
        "plt.style.use('seaborn')\n",
        "plt.plot(yy)"
      ],
      "execution_count": 0,
      "outputs": [
        {
          "output_type": "execute_result",
          "data": {
            "text/plain": [
              "[<matplotlib.lines.Line2D at 0x7f1f1c389f28>]"
            ]
          },
          "metadata": {
            "tags": []
          },
          "execution_count": 14
        },
        {
          "output_type": "display_data",
          "data": {
            "image/png": "[encoded data removed]",
            "text/plain": [
              "<matplotlib.figure.Figure at 0x7f1f1c471668>"
            ]
          },
          "metadata": {
            "tags": []
          }
        }
      ]
    },
    {
      "metadata": {
        "id": "loyt1plqcNOT",
        "colab_type": "code",
        "colab": {}
      },
      "cell_type": "code",
      "source": [
        "bcen = nx.betweenness_centrality(GG)"
      ],
      "execution_count": 0,
      "outputs": []
    },
    {
      "metadata": {
        "id": "jemPKAcxcNOW",
        "colab_type": "code",
        "colab": {}
      },
      "cell_type": "code",
      "source": [
        "yy_b = []\n",
        "for i in sorted(bcen,key=lambda x: bcen[x],reverse= True):\n",
        "    yy_b.append(bcen[i])"
      ],
      "execution_count": 0,
      "outputs": []
    },
    {
      "metadata": {
        "id": "qYgyxwiZcNOX",
        "colab_type": "code",
        "colab": {},
        "outputId": "e7776ba7-94b9-49be-9cb4-ec7335f5eff6"
      },
      "cell_type": "code",
      "source": [
        "plt.plot((yy_b))"
      ],
      "execution_count": 0,
      "outputs": [
        {
          "output_type": "execute_result",
          "data": {
            "text/plain": [
              "[<matplotlib.lines.Line2D at 0x7f1f1a76f828>]"
            ]
          },
          "metadata": {
            "tags": []
          },
          "execution_count": 33
        },
        {
          "output_type": "display_data",
          "data": {
            "image/png": "[encoded data removed]",
            "text/plain": [
              "<matplotlib.figure.Figure at 0x7f1f1a16ff98>"
            ]
          },
          "metadata": {
            "tags": []
          }
        }
      ]
    },
    {
      "metadata": {
        "id": "RHlgqC-3cNOb",
        "colab_type": "code",
        "colab": {},
        "outputId": "a1969f6f-6aa3-4801-fc7b-c2545bfbacf0"
      },
      "cell_type": "code",
      "source": [
        "xc = sorted(bcen,key=lambda x: bcen[x],reverse= True)\n",
        "for i in range(10):\n",
        "    print(id2name[group2stop[int(xx[i])][0]])\n",
        "print('-'*10)\n",
        "# xc = sorted(decen,key=lambda x: decen[x],reverse= True)\n",
        "for i in range(10):\n",
        "    print(id2name[group2stop[int(xx[-(i+1)])][0]])"
      ],
      "execution_count": 0,
      "outputs": [
        {
          "output_type": "stream",
          "text": [
            "Nation\n",
            "Charles de Gaulle-Etoile\n",
            "Châtelet\n",
            "Denfert-Rochereau\n",
            "PORTE D'AUBERVILLIERS - OBERLE\n",
            "Place d'Italie\n",
            "Nanterre-Ville\n",
            "Opéra\n",
            "Porte de Saint-Cloud\n",
            "Gare de l'Est (Verdun)\n",
            "----------\n",
            "VAN GOGH\n",
            "PLACE DU VEL'D'HIV\n",
            "PLACE DE L'ECLUSE\n",
            "ATELIERS RATP\n",
            "PABLO PICASSO\n",
            "MAISON DE QUARTIER\n",
            "FLEURY - TRICOTS\n",
            "MONASTERE\n",
            "LA GALAISE\n",
            "PRES SAINT-MARTIN\n"
          ],
          "name": "stdout"
        }
      ]
    },
    {
      "metadata": {
        "id": "duDGWX6scNOd",
        "colab_type": "code",
        "colab": {}
      },
      "cell_type": "code",
      "source": [
        "# nx.write_gpickle(GG,'net100')\n",
        "# nx.write_gpickle(G,'net0')"
      ],
      "execution_count": 0,
      "outputs": []
    },
    {
      "metadata": {
        "id": "pklfMA01c_Ta",
        "colab_type": "text"
      },
      "cell_type": "markdown",
      "source": [
        "## Remove nodes and shortest path"
      ]
    },
    {
      "metadata": {
        "id": "uvHtsF8qcvKe",
        "colab_type": "text"
      },
      "cell_type": "markdown",
      "source": [
        "This two funtion make the int to the format that fit the graph node name(wrap)\n",
        "\n",
        "Or make the graph node name to int(unwrap)"
      ]
    },
    {
      "metadata": {
        "id": "ruN_gBzZcNOf",
        "colab_type": "code",
        "colab": {}
      },
      "cell_type": "code",
      "source": [
        "def wrap(x):\n",
        "    return \"'{}'\".format(x)\n",
        "def unwrap(x):\n",
        "    return int(x.replace(\"'\",''))\n",
        "  \n",
        "def nametogroup(name = 'Châtelet'):\n",
        "    return stop2group[name2id[name.lower()][0]]"
      ],
      "execution_count": 0,
      "outputs": []
    },
    {
      "metadata": {
        "id": "Dads3WzjdVzc",
        "colab_type": "code",
        "colab": {
          "base_uri": "https://localhost:8080/",
          "height": 102
        },
        "outputId": "df803b8e-a9ae-4158-e78b-fe489da49640"
      },
      "cell_type": "code",
      "source": [
        "## EG\n",
        "\n",
        "print(wrap(100))\n",
        "print('-'*10)\n",
        "print(unwrap(\"'100'\"))\n",
        "print('-'*10)\n",
        "nametogroup('CITE UNIVERSITAIRE')"
      ],
      "execution_count": 17,
      "outputs": [
        {
          "output_type": "stream",
          "text": [
            "'100'\n",
            "----------\n",
            "100\n",
            "----------\n"
          ],
          "name": "stdout"
        },
        {
          "output_type": "execute_result",
          "data": {
            "text/plain": [
              "2102"
            ]
          },
          "metadata": {
            "tags": []
          },
          "execution_count": 17
        }
      ]
    },
    {
      "metadata": {
        "id": "Cdi-TlcJcNOl",
        "colab_type": "code",
        "colab": {}
      },
      "cell_type": "code",
      "source": [
        "# input is stop id which can use dict name2id to find\n",
        "def find_short_path(start_id = 2140,end_id = 1924,graph = GG,verbose = True):\n",
        "    id1 = stop2group[start_id]\n",
        "    id2 = stop2group[end_id]\n",
        "    short_p = nx.shortest_path(graph,source=wrap(id1),target = wrap(id2))\n",
        "    print('the shortest path between {} and {} is {} stations long'\\\n",
        "          .format(id2name[start_id],id2name[end_id],len(short_p)))\n",
        "    if verbose:\n",
        "        pprint(list(id2name[group2stop[unwrap(x)][0]] for x in short_p))\n",
        "    return len(short_p)"
      ],
      "execution_count": 0,
      "outputs": []
    },
    {
      "metadata": {
        "id": "TC2bBSybcNOm",
        "colab_type": "code",
        "colab": {
          "base_uri": "https://localhost:8080/",
          "height": 169
        },
        "outputId": "2a963662-36b9-459e-b809-420e07d90e2e"
      },
      "cell_type": "code",
      "source": [
        "find_short_path(3764835,)"
      ],
      "execution_count": 19,
      "outputs": [
        {
          "output_type": "stream",
          "text": [
            "the shortest path between CITE UNIVERSITAIRE and Le Guichet is 7 stations long\n",
            "['CITE UNIVERSITAIRE',\n",
            " 'GLACIERE - TOLBIAC',\n",
            " 'ALESIA - RENE COTY',\n",
            " 'JOURDAN-MONTSOURIS',\n",
            " \"Porte d'Orléans (Général Leclerc)\",\n",
            " 'Massy-Palaiseau',\n",
            " 'Le Guichet']\n"
          ],
          "name": "stdout"
        },
        {
          "output_type": "execute_result",
          "data": {
            "text/plain": [
              "7"
            ]
          },
          "metadata": {
            "tags": []
          },
          "execution_count": 19
        }
      ]
    },
    {
      "metadata": {
        "id": "mF7CE5U9cNOq",
        "colab_type": "code",
        "colab": {
          "base_uri": "https://localhost:8080/",
          "height": 354
        },
        "outputId": "30e1e3d5-fa2c-49be-a858-84a855187b06"
      },
      "cell_type": "code",
      "source": [
        "find_short_path(3764835,2140)"
      ],
      "execution_count": 9,
      "outputs": [
        {
          "output_type": "stream",
          "text": [
            "the shortest path between CITE UNIVERSITAIRE and Cergy-Préfecture is 18 stations long\n",
            "['CITE UNIVERSITAIRE',\n",
            " 'PARC MONTSOURIS',\n",
            " 'DAREAU - SAINT-JACQUES',\n",
            " 'Denfert-Rochereau',\n",
            " 'Montparnasse-Bienvenue',\n",
            " 'Saint-Michel Notre-Dame',\n",
            " 'Les Halles',\n",
            " 'Opéra',\n",
            " 'Charles de Gaulle-Etoile',\n",
            " 'La Défense (Grande Arche)',\n",
            " 'Nanterre-Préfecture',\n",
            " 'Houilles Carrières-sur-Seine',\n",
            " 'Sartrouville',\n",
            " 'Maisons-Laffitte',\n",
            " 'Achères-Ville',\n",
            " \"Conflans-Fin d'Oise\",\n",
            " 'Neuville-Université',\n",
            " 'Cergy-Préfecture']\n"
          ],
          "name": "stdout"
        },
        {
          "output_type": "execute_result",
          "data": {
            "text/plain": [
              "18"
            ]
          },
          "metadata": {
            "tags": []
          },
          "execution_count": 9
        }
      ]
    },
    {
      "metadata": {
        "id": "syfN0ZKmcNOv",
        "colab_type": "code",
        "colab": {}
      },
      "cell_type": "code",
      "source": [
        "def attack_group_target(group = [2102]):\n",
        "    gp = [wrap(x) for x in group]\n",
        "    G1 = GG.copy()\n",
        "    G1.remove_nodes_from(gp)\n",
        "    pprint('remove {}'.format([id2name[group2stop[x][0]] for x in group]))\n",
        "    return G1"
      ],
      "execution_count": 0,
      "outputs": []
    },
    {
      "metadata": {
        "id": "RAce2FHkcNOy",
        "colab_type": "code",
        "colab": {}
      },
      "cell_type": "code",
      "source": [
        "G1 = attack_group_target([190, 6,23,159])"
      ],
      "execution_count": 0,
      "outputs": []
    },
    {
      "metadata": {
        "id": "1IU9gsPVd72V",
        "colab_type": "code",
        "colab": {
          "base_uri": "https://localhost:8080/",
          "height": 35
        },
        "outputId": "101362ac-e9c6-460c-b6ce-74c32821f003"
      },
      "cell_type": "code",
      "source": [
        "nametogroup('LA DEFENSE'),nametogroup('NANTERRE - UNIVERSITE RER'),nametogroup('CITE UNIVERSITAIRE')"
      ],
      "execution_count": 21,
      "outputs": [
        {
          "output_type": "execute_result",
          "data": {
            "text/plain": [
              "(2742, 3254, 2102)"
            ]
          },
          "metadata": {
            "tags": []
          },
          "execution_count": 21
        }
      ]
    },
    {
      "metadata": {
        "id": "4pCrqqT6cNO6",
        "colab_type": "code",
        "colab": {
          "base_uri": "https://localhost:8080/",
          "height": 253
        },
        "outputId": "60ec66cc-d450-4e06-afc9-3a07d027b978"
      },
      "cell_type": "code",
      "source": [
        "for i in [[],[190],[190,6],[2742],[3254],[2102],[190, 6,159]]:\n",
        "    G1 = attack_group_target(i)\n",
        "    try:\n",
        "        find_short_path(graph = G1,verbose = False)\n",
        "    except nx.NetworkXNoPath as e:\n",
        "        print(e)"
      ],
      "execution_count": 19,
      "outputs": [
        {
          "output_type": "stream",
          "text": [
            "'remove []'\n",
            "the shortest path between Cergy-Préfecture and Le Guichet is 18 stations long\n",
            "\"remove ['Les Halles']\"\n",
            "the shortest path between Cergy-Préfecture and Le Guichet is 19 stations long\n",
            "\"remove ['Les Halles', 'Châtelet']\"\n",
            "the shortest path between Cergy-Préfecture and Le Guichet is 19 stations long\n",
            "\"remove ['LA DEFENSE']\"\n",
            "the shortest path between Cergy-Préfecture and Le Guichet is 18 stations long\n",
            "\"remove ['NANTERRE - UNIVERSITE RER']\"\n",
            "the shortest path between Cergy-Préfecture and Le Guichet is 18 stations long\n",
            "\"remove ['CITE UNIVERSITAIRE']\"\n",
            "the shortest path between Cergy-Préfecture and Le Guichet is 18 stations long\n",
            "\"remove ['Les Halles', 'Châtelet', 'Massy-Palaiseau']\"\n",
            "No path between '304' and '240'.\n"
          ],
          "name": "stdout"
        }
      ]
    },
    {
      "metadata": {
        "id": "Td3vbheHse_m",
        "colab_type": "code",
        "colab": {}
      },
      "cell_type": "code",
      "source": [
        "G1 = attack_group_target([2742,214,103])\n",
        "find_short_path(graph = G1,verbose = True)"
      ],
      "execution_count": 0,
      "outputs": []
    },
    {
      "metadata": {
        "id": "RpR3idzRwD5a",
        "colab_type": "code",
        "colab": {}
      },
      "cell_type": "code",
      "source": [
        "Gc = nx.read_gpickle('combined.gpickle')"
      ],
      "execution_count": 0,
      "outputs": []
    },
    {
      "metadata": {
        "id": "otIrMXJfwL6b",
        "colab_type": "code",
        "colab": {}
      },
      "cell_type": "code",
      "source": [
        "Gc.edges(data = True)"
      ],
      "execution_count": 0,
      "outputs": []
    },
    {
      "metadata": {
        "id": "uBPKggb-13iv",
        "colab_type": "code",
        "colab": {}
      },
      "cell_type": "code",
      "source": [
        "id2namec = {}\n",
        "name2idc = {}\n",
        "for i in Gc.node:\n",
        "  id2namec[i] =Gc.node[i]['name']\n",
        "  name2idc[Gc.node[i]['name']] =  name2idc.get(Gc.node[i]['name'],[]) + [i]\n",
        "  \n"
      ],
      "execution_count": 0,
      "outputs": []
    },
    {
      "metadata": {
        "id": "1gXEiVjG66T2",
        "colab_type": "code",
        "colab": {
          "base_uri": "https://localhost:8080/",
          "height": 404
        },
        "outputId": "7be1a468-2927-4c7c-fb87-206268aa55ae"
      },
      "cell_type": "code",
      "source": [
        "[id2namec[x] for x in nx.shortest_path(Gc,27475,27404, weight='duration_avg')]"
      ],
      "execution_count": 14,
      "outputs": [
        {
          "output_type": "execute_result",
          "data": {
            "text/plain": [
              "['CERGY PREFECTURE',\n",
              " 'NEUVILLE UNIVERSITE',\n",
              " \"CONFLANS FIN D'OISE\",\n",
              " 'ACHERES VILLE',\n",
              " 'MAISONS LAFFITTE',\n",
              " 'SARTROUVILLE',\n",
              " 'NANTERRE PREFECTURE',\n",
              " 'LA DEFENSE',\n",
              " 'CHARLES DE GAULLE ETOILE',\n",
              " 'AUBER',\n",
              " 'CHATELET LES HALLES',\n",
              " 'ST MICHEL ND RER B',\n",
              " 'LUXEMBOURG',\n",
              " 'PORT ROYAL',\n",
              " 'DENFERT ROCHEREAU',\n",
              " 'CITE UNIVERSITAIRE',\n",
              " 'BOURG LA REINE',\n",
              " 'ANTONY',\n",
              " 'MASSY PALAISEAU',\n",
              " 'PALAISEAU',\n",
              " 'PALAISEAU VILLEBON',\n",
              " 'LOZERE',\n",
              " 'LE GUICHET']"
            ]
          },
          "metadata": {
            "tags": []
          },
          "execution_count": 14
        }
      ]
    },
    {
      "metadata": {
        "id": "Hwqp8SZ57UDv",
        "colab_type": "code",
        "colab": {
          "base_uri": "https://localhost:8080/",
          "height": 555
        },
        "outputId": "0982db88-5365-479e-f931-6e32df4b07b3"
      },
      "cell_type": "code",
      "source": [
        "G0 = Gc.copy()\n",
        "G0.remove_nodes_from([27051,9997,9998])\n",
        "[id2namec[x] for x in nx.shortest_path(G0,27475,27404, weight='duration_avg')],nx.dijkstra_path_length(G0,27404,27475, weight='duration_avg'),nx.dijkstra_path_length(Gc,27404,27475, weight='duration_avg')"
      ],
      "execution_count": 17,
      "outputs": [
        {
          "output_type": "execute_result",
          "data": {
            "text/plain": [
              "(['CERGY PREFECTURE',\n",
              "  'NEUVILLE UNIVERSITE',\n",
              "  \"CONFLANS FIN D'OISE\",\n",
              "  'CONFLANS SAINTE-HONORINE',\n",
              "  'PONTOISE',\n",
              "  \"SAINT-OUEN L'AUMONE\",\n",
              "  \"SAINT-OUEN L'AUMONE LIESSE\",\n",
              "  'PIERRELAYE',\n",
              "  'MONTIGNY BEAUCHAMP',\n",
              "  'FRANCONVILLE LE PLESSIS BOUCHARD',\n",
              "  'CERNAY',\n",
              "  'ERMONT EAUBONNE',\n",
              "  'ENGHIEN LES BAINS',\n",
              "  'EPINAY VILLETANEUSE',\n",
              "  'SAINT-DENIS',\n",
              "  'STADE DE FRANCE SAINT-DENIS',\n",
              "  'PARIS NORD',\n",
              "  'CHATELET LES HALLES',\n",
              "  'ST MICHEL ND RER B',\n",
              "  'LUXEMBOURG',\n",
              "  'PORT ROYAL',\n",
              "  'DENFERT ROCHEREAU',\n",
              "  'CITE UNIVERSITAIRE',\n",
              "  'BOURG LA REINE',\n",
              "  'ANTONY',\n",
              "  'MASSY PALAISEAU',\n",
              "  'PALAISEAU',\n",
              "  'PALAISEAU VILLEBON',\n",
              "  'LOZERE',\n",
              "  'LE GUICHET'],\n",
              " 4961.911064087815,\n",
              " 3826.868477235522)"
            ]
          },
          "metadata": {
            "tags": []
          },
          "execution_count": 17
        }
      ]
    },
    {
      "metadata": {
        "id": "pnu4PtbzqV6_",
        "colab_type": "code",
        "colab": {}
      },
      "cell_type": "code",
      "source": [
        "def remove_n_percent(graph, percent,nodes_list = None):\n",
        "  graph_copy = nx.Graph.copy(graph)\n",
        "  if nodes_list is None:\n",
        "    nodes_list = np.array(graph.nodes())\n",
        "  remove_list = np.random.choice(nodes_list,int(nodes_list.shape[0] * percent))\n",
        "  graph_copy.remove_nodes_from(remove_list)\n",
        "  return graph_copy"
      ],
      "execution_count": 0,
      "outputs": []
    },
    {
      "metadata": {
        "id": "846gHK7wq0Hv",
        "colab_type": "code",
        "colab": {}
      },
      "cell_type": "code",
      "source": [
        "def other_mean(ac):\n",
        "  sorted_other = sorted(nx.connected_component_subgraphs(ac),key = len)[1:]\n",
        "  other_array = np.array([i for i in map(lambda x: nx.number_of_nodes(x) , sorted_other)])\n",
        "  return other_array.mean()"
      ],
      "execution_count": 0,
      "outputs": []
    },
    {
      "metadata": {
        "id": "eDVG38APq56f",
        "colab_type": "code",
        "colab": {}
      },
      "cell_type": "code",
      "source": [
        "\n",
        "gcc_size_random = []\n",
        "other_size_random = []\n",
        "gcc_size_target = []\n",
        "other_size_target = []\n",
        "dia = []\n",
        "total_nodes = nx.number_of_nodes(G1)\n",
        "for i in range(20):\n",
        "  percent = (i+1)/100\n",
        "  random_remove1 = remove_n_percent(G1,percent)\n",
        "  gcc= max(nx.connected_component_subgraphs(random_remove1), key = len) \n",
        "  gcc_random_size1 = nx.number_of_nodes(gcc)\n",
        "#   other_size_random1 = other_mean(random_remove1)\n",
        "#   dia.append(nx.diameter(gcc))\n",
        "  gcc_size_random.append(gcc_random_size1)\n",
        "#   other_size_random.append(other_size_random1)\n",
        "\n",
        "gcc_size_random1 = []\n",
        "gcc_size_target1 = []\n",
        "dia1 = []\n",
        "total_nodes = nx.number_of_nodes(G1)\n",
        "for i in range(20):\n",
        "  percent = (i+1)/100\n",
        "  random_remove1 = remove_n_percent(G1,percent)\n",
        "  gcc= max(nx.connected_component_subgraphs(random_remove1), key = len) \n",
        "  gcc_random_size1 = nx.number_of_nodes(gcc)\n",
        "#   other_size_random1 = other_mean(random_remove1)\n",
        "#   dia.append1(nx.diameter(gcc))\n",
        "  gcc_size_random1.append(gcc_random_size1)\n",
        "#   other_size_random.append(other_size_random1)\n",
        "\n"
      ],
      "execution_count": 0,
      "outputs": []
    },
    {
      "metadata": {
        "id": "JrKmQKRurQyM",
        "colab_type": "code",
        "colab": {
          "base_uri": "https://localhost:8080/",
          "height": 379
        },
        "outputId": "ed0ef1ea-269c-4a4b-a511-e061557ff59d"
      },
      "cell_type": "code",
      "source": [
        "import matplotlib.pyplot as plt\n",
        "fig = plt.figure()\n",
        "ax = fig.add_subplot(111)\n",
        "# ax2 = ax.twinx()\n",
        "ax.plot(gcc_size_random,label = 'random')\n",
        "ax.plot(gcc_size_random1,label = 'max degree')\n",
        "ax.set_title('remove stations')\n",
        "ax.legend()"
      ],
      "execution_count": 57,
      "outputs": [
        {
          "output_type": "execute_result",
          "data": {
            "text/plain": [
              "<matplotlib.legend.Legend at 0x7f70941eeb00>"
            ]
          },
          "metadata": {
            "tags": []
          },
          "execution_count": 57
        },
        {
          "output_type": "display_data",
          "data": {
            "image/png": "[encoded data removed]",
            "text/plain": [
              "<matplotlib.figure.Figure at 0x7f709b7e28d0>"
            ]
          },
          "metadata": {
            "tags": []
          }
        }
      ]
    },
    {
      "metadata": {
        "id": "pHuHsgT9sIWo",
        "colab_type": "code",
        "colab": {}
      },
      "cell_type": "code",
      "source": [
        "def target_remove(graph,percent,nodes_list = None):\n",
        "  copy = nx.Graph.copy(graph)\n",
        "  if nodes_list is None:\n",
        "    sorted_nodes_dict = sorted(np.array(copy.degree), key = lambda x: x[-1], reverse= True)\n",
        "    nodes_list = [x for x in map(lambda x: x[0], sorted_nodes_dict)]\n",
        "  \n",
        "  n = len(nodes_list)\n",
        "  remove_list = nodes_list[:int(n*percent)]\n",
        "  copy.remove_nodes_from(remove_list)\n",
        "  return copy\n",
        "\n",
        "def remove_n_percent(graph, percent,nodes_list = None):\n",
        "  graph_copy = nx.Graph.copy(graph)\n",
        "  if nodes_list is None:\n",
        "    nodes_list = np.array(graph.nodes())\n",
        "  remove_list = np.random.choice(nodes_list,int(nodes_list.shape[0] * percent))\n",
        "  graph_copy.remove_nodes_from(remove_list)\n",
        "  return graph_copy\n",
        "\n",
        "def core3_remove(graph, percent):\n",
        "  graph_copy = nx.Graph.copy(graph)\n",
        "  nodes_list = np.array(graph.nodes())\n",
        "  remove_list = np.random.choice(core3,int(nodes_list.shape[0] * percent))\n",
        "  graph_copy.remove_nodes_from(remove_list)\n",
        "  return graph_copy"
      ],
      "execution_count": 0,
      "outputs": []
    },
    {
      "metadata": {
        "id": "DuIhKKjeuHNv",
        "colab_type": "code",
        "colab": {}
      },
      "cell_type": "code",
      "source": [
        "G1 = GG\n",
        "gcc_size_random = []\n",
        "gcc_size_target = []\n",
        "gcc_size_core = []\n",
        "for i in range(20):\n",
        "  percent = (i+1)/100\n",
        "  random_remove = remove_n_percent(G1,percent)\n",
        "  gcc= max(nx.connected_component_subgraphs(random_remove), key = len) \n",
        "  gcc_random_size = nx.number_of_nodes(gcc)\n",
        "  gcc_size_random.append(gcc_random_size)\n",
        "\n",
        "  t_remove = target_remove(G1,percent)\n",
        "  gcct= max(nx.connected_component_subgraphs(t_remove), key = len) \n",
        "  gcc_t_size = nx.number_of_nodes(gcct)\n",
        "  gcc_size_target.append(gcc_t_size)\n",
        "  \n",
        "  c_remove = core3_remove(G1,percent)\n",
        "  gccc= max(nx.connected_component_subgraphs(c_remove), key = len) \n",
        "  gcc_c_size = nx.number_of_nodes(gccc)\n",
        "  gcc_size_core.append(gcc_c_size)"
      ],
      "execution_count": 0,
      "outputs": []
    },
    {
      "metadata": {
        "id": "_QMzk36ZYR4C",
        "colab_type": "code",
        "colab": {
          "base_uri": "https://localhost:8080/",
          "height": 377
        },
        "outputId": "76efa1a9-0b77-41c0-abd7-1fb35229d840"
      },
      "cell_type": "code",
      "source": [
        "import matplotlib.pyplot as plt\n",
        "plt.plot(gcc_size_random,label = 'random')\n",
        "plt.plot(gcc_size_target,label = 'core')\n",
        "plt.plot(gcc_size_core,label = 'max degree')\n",
        "plt.legend()\n",
        "plt.title('efficiency of different kinds of removal')\n",
        "plt.xlabel('removal percent')\n",
        "plt.ylabel('number of nodes in the GCC')\n",
        "plt.show()"
      ],
      "execution_count": 40,
      "outputs": [
        {
          "output_type": "display_data",
          "data": {
            "image/png": "[encoded data removed]",
            "text/plain": [
              "<matplotlib.figure.Figure at 0x7fb30f086ba8>"
            ]
          },
          "metadata": {
            "tags": []
          }
        }
      ]
    },
    {
      "metadata": {
        "id": "kT-SqMSyySdT",
        "colab_type": "code",
        "colab": {}
      },
      "cell_type": "code",
      "source": [
        "G1 = nx.read_gpickle('net100')\n",
        "gcc_size_random = []\n",
        "other_size_random = []\n",
        "gcc_size_target = []\n",
        "other_size_target = []\n",
        "dia = []\n",
        "total_nodes = nx.number_of_nodes(G1)\n",
        "for i in range(20):\n",
        "  percent = (i+1)/100\n",
        "  random_remove1 = remove_n_percent(G1,percent)\n",
        "  gcc= max(nx.connected_component_subgraphs(random_remove1), key = len) \n",
        "  gcc_random_size1 = nx.number_of_nodes(gcc)\n",
        "#   other_size_random1 = other_mean(random_remove1)\n",
        "#   dia.append(nx.diameter(gcc))\n",
        "  gcc_size_random.append(gcc_random_size1)\n",
        "#   other_size_random.append(other_size_random1)\n",
        "\n",
        "gcc_size_random1 = []\n",
        "gcc_size_target1 = []\n",
        "dia1 = []\n",
        "total_nodes = nx.number_of_nodes(G1)\n",
        "for i in range(20):\n",
        "  percent = (i+1)/100\n",
        "  random_remove1 = remove_n_percent(G1,percent)\n",
        "  gcc= max(nx.connected_component_subgraphs(random_remove1), key = len) \n",
        "  gcc_random_size1 = nx.number_of_nodes(gcc)\n",
        "#   other_size_random1 = other_mean(random_remove1)\n",
        "#   dia.append1(nx.diameter(gcc))\n",
        "  gcc_size_random1.append(gcc_random_size1)\n",
        "#   other_size_random.append(other_size_random1)\n",
        "\n"
      ],
      "execution_count": 0,
      "outputs": []
    },
    {
      "metadata": {
        "id": "9UvUleQBzGkn",
        "colab_type": "code",
        "colab": {}
      },
      "cell_type": "code",
      "source": [
        "G1 = nx.read_gpickle('net100')"
      ],
      "execution_count": 0,
      "outputs": []
    },
    {
      "metadata": {
        "id": "C1wjDTTm92Kz",
        "colab_type": "code",
        "colab": {
          "base_uri": "https://localhost:8080/",
          "height": 35
        },
        "outputId": "e88d2e39-e415-4292-fabb-01699304180c"
      },
      "cell_type": "code",
      "source": [
        "nx.number_of_edges(G1),nx.number_of_nodes(G1)"
      ],
      "execution_count": 9,
      "outputs": [
        {
          "output_type": "execute_result",
          "data": {
            "text/plain": [
              "(10246, 5486)"
            ]
          },
          "metadata": {
            "tags": []
          },
          "execution_count": 9
        }
      ]
    },
    {
      "metadata": {
        "id": "KeGUE8oQzHco",
        "colab_type": "code",
        "colab": {
          "base_uri": "https://localhost:8080/",
          "height": 379
        },
        "outputId": "ef7d3b58-91d3-48ff-d04c-b78a62b640f0"
      },
      "cell_type": "code",
      "source": [
        "import matplotlib.pyplot as plt\n",
        "fig = plt.figure()\n",
        "ax = fig.add_subplot(111)\n",
        "# ax2 = ax.twinx()\n",
        "ax.plot(gcc_size_random,label = 'random')\n",
        "ax.plot(gcc_size_random1,label = 'max degree')\n",
        "ax.set_title('remove stations')\n",
        "ax.legend()"
      ],
      "execution_count": 6,
      "outputs": [
        {
          "output_type": "execute_result",
          "data": {
            "text/plain": [
              "<matplotlib.legend.Legend at 0x7f39bc739668>"
            ]
          },
          "metadata": {
            "tags": []
          },
          "execution_count": 6
        },
        {
          "output_type": "display_data",
          "data": {
            "image/png": "[encoded data removed]",
            "text/plain": [
              "<matplotlib.figure.Figure at 0x7f39bbb14cc0>"
            ]
          },
          "metadata": {
            "tags": []
          }
        }
      ]
    }
  ]
}